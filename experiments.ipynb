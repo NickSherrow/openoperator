{
 "cells": [
  {
   "cell_type": "code",
   "execution_count": 1,
   "metadata": {},
   "outputs": [
    {
     "name": "stdout",
     "output_type": "stream",
     "text": [
      "INFO     [browser_use] BrowserUse logging setup complete with level info\n",
      "INFO     [browser.tools.browser_tools] 🔗  Navigated to https://arxiv.org/abs/2301.09753\n",
      "INFO     [browser.tools.browser_tools] Clicked button with index 20: View PDF\n",
      "INFO     [browser.tools.browser_tools] Clicked button with index 0: \n"
     ]
    },
    {
     "ename": "GraphRecursionError",
     "evalue": "Recursion limit of 25 reached without hitting a stop condition. You can increase the limit by setting the `recursion_limit` config key.\nFor troubleshooting, visit: https://python.langchain.com/docs/troubleshooting/errors/GRAPH_RECURSION_LIMIT",
     "output_type": "error",
     "traceback": [
      "\u001b[0;31m---------------------------------------------------------------------------\u001b[0m",
      "\u001b[0;31mGraphRecursionError\u001b[0m                       Traceback (most recent call last)",
      "Cell \u001b[0;32mIn[1], line 9\u001b[0m\n\u001b[1;32m      5\u001b[0m query \u001b[38;5;241m=\u001b[39m \u001b[38;5;124m\"\u001b[39m\u001b[38;5;124mI need information about what versions does the EuroSAT dataset have.\u001b[39m\u001b[38;5;124m\"\u001b[39m\n\u001b[1;32m      7\u001b[0m config \u001b[38;5;241m=\u001b[39m {\u001b[38;5;124m\"\u001b[39m\u001b[38;5;124mconfigurable\u001b[39m\u001b[38;5;124m\"\u001b[39m: {\u001b[38;5;124m\"\u001b[39m\u001b[38;5;124mtemperature\u001b[39m\u001b[38;5;124m\"\u001b[39m: \u001b[38;5;241m0.5\u001b[39m}, \u001b[38;5;124m\"\u001b[39m\u001b[38;5;124mrecursion_limit\u001b[39m\u001b[38;5;124m\"\u001b[39m: \u001b[38;5;241m25\u001b[39m}\n\u001b[0;32m----> 9\u001b[0m k \u001b[38;5;241m=\u001b[39m \u001b[38;5;28;01mawait\u001b[39;00m app\u001b[38;5;241m.\u001b[39mainvoke({\u001b[38;5;124m\"\u001b[39m\u001b[38;5;124murl\u001b[39m\u001b[38;5;124m\"\u001b[39m: url, \u001b[38;5;124m\"\u001b[39m\u001b[38;5;124mquery\u001b[39m\u001b[38;5;124m\"\u001b[39m: query}, config\u001b[38;5;241m=\u001b[39mconfig)\n\u001b[1;32m     10\u001b[0m k\n",
      "File \u001b[0;32m~/browser-use/.venv/lib/python3.11/site-packages/langgraph/pregel/__init__.py:2014\u001b[0m, in \u001b[0;36mPregel.ainvoke\u001b[0;34m(self, input, config, stream_mode, output_keys, interrupt_before, interrupt_after, debug, **kwargs)\u001b[0m\n\u001b[1;32m   2012\u001b[0m \u001b[38;5;28;01melse\u001b[39;00m:\n\u001b[1;32m   2013\u001b[0m     chunks \u001b[38;5;241m=\u001b[39m []\n\u001b[0;32m-> 2014\u001b[0m \u001b[38;5;28;01masync\u001b[39;00m \u001b[38;5;28;01mfor\u001b[39;00m chunk \u001b[38;5;129;01min\u001b[39;00m \u001b[38;5;28mself\u001b[39m\u001b[38;5;241m.\u001b[39mastream(\n\u001b[1;32m   2015\u001b[0m     \u001b[38;5;28minput\u001b[39m,\n\u001b[1;32m   2016\u001b[0m     config,\n\u001b[1;32m   2017\u001b[0m     stream_mode\u001b[38;5;241m=\u001b[39mstream_mode,\n\u001b[1;32m   2018\u001b[0m     output_keys\u001b[38;5;241m=\u001b[39moutput_keys,\n\u001b[1;32m   2019\u001b[0m     interrupt_before\u001b[38;5;241m=\u001b[39minterrupt_before,\n\u001b[1;32m   2020\u001b[0m     interrupt_after\u001b[38;5;241m=\u001b[39minterrupt_after,\n\u001b[1;32m   2021\u001b[0m     debug\u001b[38;5;241m=\u001b[39mdebug,\n\u001b[1;32m   2022\u001b[0m     \u001b[38;5;241m*\u001b[39m\u001b[38;5;241m*\u001b[39mkwargs,\n\u001b[1;32m   2023\u001b[0m ):\n\u001b[1;32m   2024\u001b[0m     \u001b[38;5;28;01mif\u001b[39;00m stream_mode \u001b[38;5;241m==\u001b[39m \u001b[38;5;124m\"\u001b[39m\u001b[38;5;124mvalues\u001b[39m\u001b[38;5;124m\"\u001b[39m:\n\u001b[1;32m   2025\u001b[0m         latest \u001b[38;5;241m=\u001b[39m chunk\n",
      "File \u001b[0;32m~/browser-use/.venv/lib/python3.11/site-packages/langgraph/pregel/__init__.py:1921\u001b[0m, in \u001b[0;36mPregel.astream\u001b[0;34m(self, input, config, stream_mode, output_keys, interrupt_before, interrupt_after, debug, subgraphs)\u001b[0m\n\u001b[1;32m   1912\u001b[0m \u001b[38;5;28;01mif\u001b[39;00m loop\u001b[38;5;241m.\u001b[39mstatus \u001b[38;5;241m==\u001b[39m \u001b[38;5;124m\"\u001b[39m\u001b[38;5;124mout_of_steps\u001b[39m\u001b[38;5;124m\"\u001b[39m:\n\u001b[1;32m   1913\u001b[0m     msg \u001b[38;5;241m=\u001b[39m create_error_message(\n\u001b[1;32m   1914\u001b[0m         message\u001b[38;5;241m=\u001b[39m(\n\u001b[1;32m   1915\u001b[0m             \u001b[38;5;124mf\u001b[39m\u001b[38;5;124m\"\u001b[39m\u001b[38;5;124mRecursion limit of \u001b[39m\u001b[38;5;132;01m{\u001b[39;00mconfig[\u001b[38;5;124m'\u001b[39m\u001b[38;5;124mrecursion_limit\u001b[39m\u001b[38;5;124m'\u001b[39m]\u001b[38;5;132;01m}\u001b[39;00m\u001b[38;5;124m reached \u001b[39m\u001b[38;5;124m\"\u001b[39m\n\u001b[0;32m   (...)\u001b[0m\n\u001b[1;32m   1919\u001b[0m         error_code\u001b[38;5;241m=\u001b[39mErrorCode\u001b[38;5;241m.\u001b[39mGRAPH_RECURSION_LIMIT,\n\u001b[1;32m   1920\u001b[0m     )\n\u001b[0;32m-> 1921\u001b[0m     \u001b[38;5;28;01mraise\u001b[39;00m GraphRecursionError(msg)\n\u001b[1;32m   1922\u001b[0m \u001b[38;5;66;03m# set final channel values as run output\u001b[39;00m\n\u001b[1;32m   1923\u001b[0m \u001b[38;5;28;01mawait\u001b[39;00m run_manager\u001b[38;5;241m.\u001b[39mon_chain_end(loop\u001b[38;5;241m.\u001b[39moutput)\n",
      "\u001b[0;31mGraphRecursionError\u001b[0m: Recursion limit of 25 reached without hitting a stop condition. You can increase the limit by setting the `recursion_limit` config key.\nFor troubleshooting, visit: https://python.langchain.com/docs/troubleshooting/errors/GRAPH_RECURSION_LIMIT"
     ]
    }
   ],
   "source": [
    "from graph import app\n",
    "from langchain_core.messages import HumanMessage\n",
    "\n",
    "url = \"https://arxiv.org/abs/2301.09753\"\n",
    "query = \"I need information about what versions does the EuroSAT dataset have.\"\n",
    "\n",
    "config = {\"configurable\": {\"temperature\": 0.5}, \"recursion_limit\": 25}\n",
    "\n",
    "k = await app.ainvoke({\"url\": url, \"query\": query}, config=config)\n",
    "k"
   ]
  },
  {
   "cell_type": "code",
   "execution_count": 3,
   "metadata": {},
   "outputs": [
    {
     "name": "stdout",
     "output_type": "stream",
     "text": [
      "('{0: <a href=\"https://www.cornell.edu/\"> [interactive, top, highlight:0], 1: '\n",
      " '<img '\n",
      " 'src=\"/static/browse/0.3.4/images/icons/cu/cornell-reduced-white-SMALL.svg\" '\n",
      " 'alt=\"Cornell University\"> [interactive, top, highlight:1], 2: <a '\n",
      " 'href=\"https://cornell.ca1.qualtrics.com/jfe/form/SV_6m22mbqW9GQ3pQO\" '\n",
      " 'target=\"_blank\"> [interactive, top, highlight:2], 3: <a '\n",
      " 'href=\"https://info.arxiv.org/about/ourmembers.html\"> [interactive, top, '\n",
      " 'highlight:3], 4: <a href=\"https://info.arxiv.org/about/donate.html\" '\n",
      " 'class=\"btn-header-donate\"> [interactive, top, highlight:4], 5: <a href=\"/\"> '\n",
      " '[interactive, top, highlight:5], 6: <img '\n",
      " 'src=\"/static/browse/0.3.4/images/arxiv-logo-one-color-white.svg\" alt=\"arxiv '\n",
      " 'logo\" style=\"height:40px;\"> [interactive, top, highlight:6], 7: <a '\n",
      " 'href=\"/list/cs/recent\"> [interactive, top, highlight:7], 8: <input '\n",
      " 'class=\"input is-small\" type=\"text\" name=\"query\" placeholder=\"Search...\" '\n",
      " 'aria-label=\"Search term or terms\"> [interactive, top, highlight:8], 9: <a '\n",
      " 'href=\"https://info.arxiv.org/help\"> [interactive, top, highlight:9], 10: <a '\n",
      " 'href=\"https://arxiv.org/search/advanced\"> [interactive, top, highlight:10], '\n",
      " '11: <select name=\"searchtype\" aria-label=\"Field to search\"> [interactive, '\n",
      " 'top, highlight:11], 12: <button class=\"button is-small is-cul-darker\"> '\n",
      " '[interactive, top, highlight:12], 13: <a '\n",
      " 'href=\"https://arxiv.org/search/cs?searchtype=author&query=Menik,+S\" '\n",
      " 'rel=\"nofollow\"> [interactive, top, highlight:13], 14: <a '\n",
      " 'href=\"https://arxiv.org/search/cs?searchtype=author&query=Ramaswamy,+L\" '\n",
      " 'rel=\"nofollow\"> [interactive, top, highlight:14], 15: <a '\n",
      " 'href=\"https://arxiv.org/abs/2301.09753\"> [interactive, top, highlight:15], '\n",
      " '16: <a href=\"https://arxiv.org/abs/2301.09753v1\"> [interactive, top, '\n",
      " 'highlight:16], 17: <a href=\"https://doi.org/10.48550/arXiv.2301.09753\" '\n",
      " 'id=\"arxiv-doi-link\"> [interactive, top, highlight:17], 18: <button '\n",
      " 'class=\"more-info\" aria-describedby=\"more-info-desc-1\"> [interactive, top, '\n",
      " 'highlight:18], 19: <a href=\"/show-email/268b050c/2301.09753\" rel=\"nofollow\"> '\n",
      " '[interactive, top, highlight:19], 20: <a href=\"/pdf/2301.09753\" '\n",
      " 'aria-describedby=\"download-button-info\" accesskey=\"f\" class=\"abs-button '\n",
      " 'download-pdf\"> [interactive, top, highlight:20], 21: <a '\n",
      " 'href=\"/src/2301.09753\" class=\"abs-button download-eprint\"> [interactive, '\n",
      " 'top, highlight:21], 22: <a href=\"/format/2301.09753\" class=\"abs-button '\n",
      " 'download-format\"> [interactive, top, highlight:22], 23: <a '\n",
      " 'href=\"http://creativecommons.org/licenses/by/4.0/\" title=\"Rights to this '\n",
      " 'article\" class=\"has_license\"> [interactive, top, highlight:23], 24: <img '\n",
      " 'alt=\"license icon\" role=\"presentation\" '\n",
      " 'src=\"https://arxiv.org/icons/licenses/by-4.0.png\"> [interactive, top, '\n",
      " 'highlight:24], 25: <a class=\"abs-button prev-url\" '\n",
      " 'href=\"/prevnext?id=2301.09753&function=prev&context=cs.LG\" accesskey=\"p\" '\n",
      " 'title=\"previous in cs.LG (accesskey p)\" rel=\"nofollow\"> [interactive, top, '\n",
      " 'highlight:25], 26: <a class=\"abs-button next-url\" '\n",
      " 'href=\"/prevnext?id=2301.09753&function=next&context=cs.LG\" accesskey=\"n\" '\n",
      " 'title=\"next in cs.LG (accesskey n)\" rel=\"nofollow\"> [interactive, top, '\n",
      " 'highlight:26], 27: <a class=\"abs-button abs-button-grey abs-button-small '\n",
      " 'context-new\" href=\"/list/cs.LG/new\" rel=\"nofollow\"> [interactive, top, '\n",
      " 'highlight:27], 28: <a class=\"abs-button abs-button-grey abs-button-small '\n",
      " 'context-recent\" href=\"/list/cs.LG/recent\" rel=\"nofollow\"> [interactive, top, '\n",
      " 'highlight:28], 29: <a class=\"abs-button abs-button-grey abs-button-small '\n",
      " 'context-id\" href=\"/list/cs.LG/2023-01\" rel=\"nofollow\"> [interactive, top, '\n",
      " 'highlight:29], 30: <a href=\"/abs/2301.09753?context=cs\" rel=\"nofollow\"> '\n",
      " '[interactive, top, highlight:30], 31: <a class=\"subclass\" '\n",
      " 'href=\"/abs/2301.09753?context=cs.SE\" rel=\"nofollow\"> [interactive, top, '\n",
      " 'highlight:31], 32: <a class=\"abs-button abs-button-small cite-ads\" '\n",
      " 'href=\"https://ui.adsabs.harvard.edu/abs/arXiv:2301.09753\"> [interactive, '\n",
      " 'top, highlight:32], 33: <a class=\"abs-button abs-button-small '\n",
      " 'cite-google-scholar\" '\n",
      " 'href=\"https://scholar.google.com/scholar_lookup?arxiv_id=2301.09753\" '\n",
      " 'target=\"_blank\" rel=\"noopener\"> [interactive, top, highlight:33], 34: <a '\n",
      " 'class=\"abs-button abs-button-small cite-semantic-scholar\" '\n",
      " 'href=\"https://api.semanticscholar.org/arXiv:2301.09753\" target=\"_blank\" '\n",
      " 'rel=\"noopener\"> [interactive, top, highlight:34], 35: <a class=\"abs-button '\n",
      " 'abs-button-grey abs-button-small\" '\n",
      " 'href=\"http://www.bibsonomy.org/BibtexHandler?requTask=upload&url=https://arxiv.org/abs/2301.09753&description=Towards '\n",
      " 'Modular Machine Learning Solution Development: Benefits and Trade-offs\" '\n",
      " 'title=\"Bookmark on BibSonomy\"> [interactive, top, highlight:35], 36: <img '\n",
      " 'src=\"/static/browse/0.3.4/images/icons/social/bibsonomy.png\" alt=\"BibSonomy '\n",
      " 'logo\"> [interactive, top, highlight:36], 37: <a class=\"abs-button '\n",
      " 'abs-button-grey abs-button-small\" '\n",
      " 'href=\"https://reddit.com/submit?url=https://arxiv.org/abs/2301.09753&title=Towards '\n",
      " 'Modular Machine Learning Solution Development: Benefits and Trade-offs\" '\n",
      " 'title=\"Bookmark on Reddit\"> [interactive, top, highlight:37], 38: <img '\n",
      " 'src=\"/static/browse/0.3.4/images/icons/social/reddit.png\" alt=\"Reddit logo\"> '\n",
      " '[interactive, top, highlight:38], 39: <label for=\"tabone\"> [interactive, '\n",
      " 'top, highlight:39], 40: <label class=\"switch\"> [interactive, top, '\n",
      " 'highlight:40], 41: <a '\n",
      " 'href=\"https://info.arxiv.org/labs/showcase.html#arxiv-bibliographic-explorer\"> '\n",
      " '[interactive, top, highlight:41], 42: <label class=\"switch\"> [interactive, '\n",
      " 'top, highlight:42], 43: <a href=\"https://www.connectedpapers.com/about\" '\n",
      " 'target=\"_blank\"> [interactive, top, highlight:43], 44: <label '\n",
      " 'class=\"switch\"> [interactive, top, highlight:44], 45: <a '\n",
      " 'href=\"https://www.litmaps.co/\" target=\"_blank\"> [interactive, top, '\n",
      " 'highlight:45], 46: <label class=\"switch\"> [interactive, top, highlight:46], '\n",
      " '47: <a href=\"https://www.scite.ai/\" target=\"_blank\"> [interactive, top, '\n",
      " 'highlight:47], 48: <label for=\"tabtwo\"> [interactive, top, highlight:48], '\n",
      " '49: <label for=\"labstabs-demos-input\" id=\"labstabs-demos-label\"> '\n",
      " '[interactive, top, highlight:49], 50: <label for=\"tabfour\"> [interactive, '\n",
      " 'top, highlight:50], 51: <label for=\"tabfive\"> [interactive, top, '\n",
      " 'highlight:51], 52: <a href=\"/auth/show-endorsers/2301.09753\" '\n",
      " 'class=\"endorser-who\" rel=\"nofollow\"> [interactive, top, highlight:52], 53: '\n",
      " '<a id=\"mathjax_toggle\" href=\"javascript:setMathjaxCookie()\"> [interactive, '\n",
      " 'top, highlight:53], 54: <a href=\"https://info.arxiv.org/help/mathjax.html\"> '\n",
      " '[interactive, top, highlight:54], 55: <a '\n",
      " 'href=\"https://info.arxiv.org/about\"> [interactive, top, highlight:55], 56: '\n",
      " '<a href=\"https://info.arxiv.org/help\"> [interactive, top, highlight:56], 57: '\n",
      " '<a href=\"https://info.arxiv.org/help/contact.html\"> [interactive, top, '\n",
      " 'highlight:57], 58: <a href=\"https://info.arxiv.org/help/subscribe\"> '\n",
      " '[interactive, top, highlight:58], 59: <a '\n",
      " 'href=\"https://info.arxiv.org/help/license/index.html\"> [interactive, top, '\n",
      " 'highlight:59], 60: <a '\n",
      " 'href=\"https://info.arxiv.org/help/policies/privacy_policy.html\"> '\n",
      " '[interactive, top, highlight:60], 61: <a '\n",
      " 'href=\"https://info.arxiv.org/help/web_accessibility.html\"> [interactive, '\n",
      " 'top, highlight:61], 62: <a class=\"a11y-main-link\" '\n",
      " 'href=\"https://status.arxiv.org\" target=\"_blank\"> [interactive, top, '\n",
      " 'highlight:62], 63: <a class=\"is-link\" '\n",
      " 'href=\"https://subscribe.sorryapp.com/24846f03/email/new\" target=\"_blank\"> '\n",
      " '[interactive, top, highlight:63], 64: <a class=\"is-link\" '\n",
      " 'href=\"https://subscribe.sorryapp.com/24846f03/slack/new\" target=\"_blank\"> '\n",
      " '[interactive, top, highlight:64]}\\n')\n"
     ]
    }
   ],
   "source": [
    "import pprint\n",
    "s = \"\"\"{0: <a href=\"https://www.cornell.edu/\"> [interactive, top, highlight:0], 1: <img src=\"/static/browse/0.3.4/images/icons/cu/cornell-reduced-white-SMALL.svg\" alt=\"Cornell University\"> [interactive, top, highlight:1], 2: <a href=\"https://cornell.ca1.qualtrics.com/jfe/form/SV_6m22mbqW9GQ3pQO\" target=\"_blank\"> [interactive, top, highlight:2], 3: <a href=\"https://info.arxiv.org/about/ourmembers.html\"> [interactive, top, highlight:3], 4: <a href=\"https://info.arxiv.org/about/donate.html\" class=\"btn-header-donate\"> [interactive, top, highlight:4], 5: <a href=\"/\"> [interactive, top, highlight:5], 6: <img src=\"/static/browse/0.3.4/images/arxiv-logo-one-color-white.svg\" alt=\"arxiv logo\" style=\"height:40px;\"> [interactive, top, highlight:6], 7: <a href=\"/list/cs/recent\"> [interactive, top, highlight:7], 8: <input class=\"input is-small\" type=\"text\" name=\"query\" placeholder=\"Search...\" aria-label=\"Search term or terms\"> [interactive, top, highlight:8], 9: <a href=\"https://info.arxiv.org/help\"> [interactive, top, highlight:9], 10: <a href=\"https://arxiv.org/search/advanced\"> [interactive, top, highlight:10], 11: <select name=\"searchtype\" aria-label=\"Field to search\"> [interactive, top, highlight:11], 12: <button class=\"button is-small is-cul-darker\"> [interactive, top, highlight:12], 13: <a href=\"https://arxiv.org/search/cs?searchtype=author&query=Menik,+S\" rel=\"nofollow\"> [interactive, top, highlight:13], 14: <a href=\"https://arxiv.org/search/cs?searchtype=author&query=Ramaswamy,+L\" rel=\"nofollow\"> [interactive, top, highlight:14], 15: <a href=\"https://arxiv.org/abs/2301.09753\"> [interactive, top, highlight:15], 16: <a href=\"https://arxiv.org/abs/2301.09753v1\"> [interactive, top, highlight:16], 17: <a href=\"https://doi.org/10.48550/arXiv.2301.09753\" id=\"arxiv-doi-link\"> [interactive, top, highlight:17], 18: <button class=\"more-info\" aria-describedby=\"more-info-desc-1\"> [interactive, top, highlight:18], 19: <a href=\"/show-email/268b050c/2301.09753\" rel=\"nofollow\"> [interactive, top, highlight:19], 20: <a href=\"/pdf/2301.09753\" aria-describedby=\"download-button-info\" accesskey=\"f\" class=\"abs-button download-pdf\"> [interactive, top, highlight:20], 21: <a href=\"/src/2301.09753\" class=\"abs-button download-eprint\"> [interactive, top, highlight:21], 22: <a href=\"/format/2301.09753\" class=\"abs-button download-format\"> [interactive, top, highlight:22], 23: <a href=\"http://creativecommons.org/licenses/by/4.0/\" title=\"Rights to this article\" class=\"has_license\"> [interactive, top, highlight:23], 24: <img alt=\"license icon\" role=\"presentation\" src=\"https://arxiv.org/icons/licenses/by-4.0.png\"> [interactive, top, highlight:24], 25: <a class=\"abs-button prev-url\" href=\"/prevnext?id=2301.09753&function=prev&context=cs.LG\" accesskey=\"p\" title=\"previous in cs.LG (accesskey p)\" rel=\"nofollow\"> [interactive, top, highlight:25], 26: <a class=\"abs-button next-url\" href=\"/prevnext?id=2301.09753&function=next&context=cs.LG\" accesskey=\"n\" title=\"next in cs.LG (accesskey n)\" rel=\"nofollow\"> [interactive, top, highlight:26], 27: <a class=\"abs-button abs-button-grey abs-button-small context-new\" href=\"/list/cs.LG/new\" rel=\"nofollow\"> [interactive, top, highlight:27], 28: <a class=\"abs-button abs-button-grey abs-button-small context-recent\" href=\"/list/cs.LG/recent\" rel=\"nofollow\"> [interactive, top, highlight:28], 29: <a class=\"abs-button abs-button-grey abs-button-small context-id\" href=\"/list/cs.LG/2023-01\" rel=\"nofollow\"> [interactive, top, highlight:29], 30: <a href=\"/abs/2301.09753?context=cs\" rel=\"nofollow\"> [interactive, top, highlight:30], 31: <a class=\"subclass\" href=\"/abs/2301.09753?context=cs.SE\" rel=\"nofollow\"> [interactive, top, highlight:31], 32: <a class=\"abs-button abs-button-small cite-ads\" href=\"https://ui.adsabs.harvard.edu/abs/arXiv:2301.09753\"> [interactive, top, highlight:32], 33: <a class=\"abs-button abs-button-small cite-google-scholar\" href=\"https://scholar.google.com/scholar_lookup?arxiv_id=2301.09753\" target=\"_blank\" rel=\"noopener\"> [interactive, top, highlight:33], 34: <a class=\"abs-button abs-button-small cite-semantic-scholar\" href=\"https://api.semanticscholar.org/arXiv:2301.09753\" target=\"_blank\" rel=\"noopener\"> [interactive, top, highlight:34], 35: <a class=\"abs-button abs-button-grey abs-button-small\" href=\"http://www.bibsonomy.org/BibtexHandler?requTask=upload&url=https://arxiv.org/abs/2301.09753&description=Towards Modular Machine Learning Solution Development: Benefits and Trade-offs\" title=\"Bookmark on BibSonomy\"> [interactive, top, highlight:35], 36: <img src=\"/static/browse/0.3.4/images/icons/social/bibsonomy.png\" alt=\"BibSonomy logo\"> [interactive, top, highlight:36], 37: <a class=\"abs-button abs-button-grey abs-button-small\" href=\"https://reddit.com/submit?url=https://arxiv.org/abs/2301.09753&title=Towards Modular Machine Learning Solution Development: Benefits and Trade-offs\" title=\"Bookmark on Reddit\"> [interactive, top, highlight:37], 38: <img src=\"/static/browse/0.3.4/images/icons/social/reddit.png\" alt=\"Reddit logo\"> [interactive, top, highlight:38], 39: <label for=\"tabone\"> [interactive, top, highlight:39], 40: <label class=\"switch\"> [interactive, top, highlight:40], 41: <a href=\"https://info.arxiv.org/labs/showcase.html#arxiv-bibliographic-explorer\"> [interactive, top, highlight:41], 42: <label class=\"switch\"> [interactive, top, highlight:42], 43: <a href=\"https://www.connectedpapers.com/about\" target=\"_blank\"> [interactive, top, highlight:43], 44: <label class=\"switch\"> [interactive, top, highlight:44], 45: <a href=\"https://www.litmaps.co/\" target=\"_blank\"> [interactive, top, highlight:45], 46: <label class=\"switch\"> [interactive, top, highlight:46], 47: <a href=\"https://www.scite.ai/\" target=\"_blank\"> [interactive, top, highlight:47], 48: <label for=\"tabtwo\"> [interactive, top, highlight:48], 49: <label for=\"labstabs-demos-input\" id=\"labstabs-demos-label\"> [interactive, top, highlight:49], 50: <label for=\"tabfour\"> [interactive, top, highlight:50], 51: <label for=\"tabfive\"> [interactive, top, highlight:51], 52: <a href=\"/auth/show-endorsers/2301.09753\" class=\"endorser-who\" rel=\"nofollow\"> [interactive, top, highlight:52], 53: <a id=\"mathjax_toggle\" href=\"javascript:setMathjaxCookie()\"> [interactive, top, highlight:53], 54: <a href=\"https://info.arxiv.org/help/mathjax.html\"> [interactive, top, highlight:54], 55: <a href=\"https://info.arxiv.org/about\"> [interactive, top, highlight:55], 56: <a href=\"https://info.arxiv.org/help\"> [interactive, top, highlight:56], 57: <a href=\"https://info.arxiv.org/help/contact.html\"> [interactive, top, highlight:57], 58: <a href=\"https://info.arxiv.org/help/subscribe\"> [interactive, top, highlight:58], 59: <a href=\"https://info.arxiv.org/help/license/index.html\"> [interactive, top, highlight:59], 60: <a href=\"https://info.arxiv.org/help/policies/privacy_policy.html\"> [interactive, top, highlight:60], 61: <a href=\"https://info.arxiv.org/help/web_accessibility.html\"> [interactive, top, highlight:61], 62: <a class=\"a11y-main-link\" href=\"https://status.arxiv.org\" target=\"_blank\"> [interactive, top, highlight:62], 63: <a class=\"is-link\" href=\"https://subscribe.sorryapp.com/24846f03/email/new\" target=\"_blank\"> [interactive, top, highlight:63], 64: <a class=\"is-link\" href=\"https://subscribe.sorryapp.com/24846f03/slack/new\" target=\"_blank\"> [interactive, top, highlight:64]}\n",
    "\"\"\"\n",
    "\n",
    "pprint.pprint(s)\n"
   ]
  },
  {
   "cell_type": "code",
   "execution_count": 13,
   "metadata": {},
   "outputs": [
    {
     "name": "stdout",
     "output_type": "stream",
     "text": [
      ".gz\n"
     ]
    }
   ],
   "source": [
    "import os\n",
    "path = \"/Users/nikitashirobokov/browser-use/browser/browser/downloads.tar.gz\"\n",
    "dirn = os.path.dirname(path)\n",
    "name = os.path.basename(path)\n",
    "extension = os.path.splitext(name)[1]\n",
    "print(extension)\n",
    "\n",
    "\n"
   ]
  },
  {
   "cell_type": "code",
   "execution_count": 27,
   "metadata": {},
   "outputs": [],
   "source": [
    "import json\n",
    "\n",
    "def render_folder_tree(items) -> str:\n",
    "        \"\"\"\n",
    "        Renders a JSON representation of the downloads folder structure.\n",
    "        Returns a string containing the JSON tree.\n",
    "        \"\"\"\n",
    "        # Build a nested dictionary representing folder structure\n",
    "        tree = {}\n",
    "        \n",
    "        for item in items:\n",
    "            # Split path into components\n",
    "            path_parts = item.split(os.sep)\n",
    "            \n",
    "            # Start at root of tree\n",
    "            current = tree\n",
    "            \n",
    "            # Build nested folder structure\n",
    "            for part in path_parts:\n",
    "                if part:  # Skip empty parts\n",
    "                    if part not in current:\n",
    "                        current[part] = {}\n",
    "                    current = current[part]\n",
    "            \n",
    "        return json.dumps(tree, indent=2)"
   ]
  },
  {
   "cell_type": "code",
   "execution_count": 28,
   "metadata": {},
   "outputs": [],
   "source": [
    "items = [\"/Users/nikitashirobokov/browser-use/browser/browser/downloads.tar.gz\",\n",
    "         \"/Users/nikitashirobokov/browser-use/kek/111.gz\",\n",
    "         \"/Users/nikitashirobokov/browser-use/kek/lol/aaaa.gz\",\n",
    "         \"/Users/nikitashirobokov/browser-use/omnomnomnom.gz\",\n",
    "         \"/Users/nikitashirobokov/browser-use/browser/browser/test.txt\"]\n",
    "\n",
    "tree = render_folder_tree(items)"
   ]
  },
  {
   "cell_type": "code",
   "execution_count": 29,
   "metadata": {},
   "outputs": [
    {
     "name": "stdout",
     "output_type": "stream",
     "text": [
      "{\n",
      "  \"Users\": {\n",
      "    \"nikitashirobokov\": {\n",
      "      \"browser-use\": {\n",
      "        \"browser\": {\n",
      "          \"browser\": {\n",
      "            \"downloads.tar.gz\": {},\n",
      "            \"test.txt\": {}\n",
      "          }\n",
      "        },\n",
      "        \"kek\": {\n",
      "          \"111.gz\": {},\n",
      "          \"lol\": {\n",
      "            \"aaaa.gz\": {}\n",
      "          }\n",
      "        },\n",
      "        \"omnomnomnom.gz\": {}\n",
      "      }\n",
      "    }\n",
      "  }\n",
      "}\n"
     ]
    }
   ],
   "source": [
    "print(tree)"
   ]
  },
  {
   "cell_type": "code",
   "execution_count": null,
   "metadata": {},
   "outputs": [],
   "source": [
    "'└── Users\\n    └── nikitashirobokov\\n        └── browser-use\\n            └── browser\\n                └── browser\\n                    └── downloads.tar.gz\\n                        └── /Users/nikitashirobokov/browser-use/browser/browser/downloads.tar.gz'"
   ]
  }
 ],
 "metadata": {
  "kernelspec": {
   "display_name": ".venv",
   "language": "python",
   "name": "python3"
  },
  "language_info": {
   "codemirror_mode": {
    "name": "ipython",
    "version": 3
   },
   "file_extension": ".py",
   "mimetype": "text/x-python",
   "name": "python",
   "nbconvert_exporter": "python",
   "pygments_lexer": "ipython3",
   "version": "3.11.11"
  }
 },
 "nbformat": 4,
 "nbformat_minor": 2
}
